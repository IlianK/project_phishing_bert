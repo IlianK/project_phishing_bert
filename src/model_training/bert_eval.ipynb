{
 "cells": [
  {
   "cell_type": "markdown",
   "metadata": {},
   "source": [
    "### Imports"
   ]
  },
  {
   "cell_type": "code",
   "execution_count": null,
   "metadata": {},
   "outputs": [],
   "source": [
    "import sys, os\n",
    "sys.path.append(os.path.abspath('../../src'))\n",
    "\n",
    "from helper_functions.path_resolver import DynamicPathResolver\n",
    "from model_training.bert import *"
   ]
  },
  {
   "cell_type": "markdown",
   "metadata": {},
   "source": [
    "### Paths"
   ]
  },
  {
   "cell_type": "code",
   "execution_count": null,
   "metadata": {},
   "outputs": [],
   "source": [
    "dpr = DynamicPathResolver(marker=\"README.md\")\n",
    "\n",
    "train_csv = dpr.path.data.preprocessed.data_bert.own_train_base_bert_csv\n",
    "test_csv  = dpr.path.data.preprocessed.data_bert.english_curated_test_bert_csv\n",
    "verification_csv = dpr.path.data.preprocessed.data_bert.english_curated_verification_bert_csv\n",
    "\n",
    "models_folder = dpr.path.models.bert._path\n",
    "output_dir    = dpr.path.models.bert.results._path\n",
    "log_dir       = dpr.path.models.bert._logs._path"
   ]
  },
  {
   "cell_type": "markdown",
   "metadata": {},
   "source": [
    "### Config"
   ]
  },
  {
   "cell_type": "markdown",
   "metadata": {},
   "source": [
    "##### Train"
   ]
  },
  {
   "cell_type": "code",
   "execution_count": null,
   "metadata": {},
   "outputs": [],
   "source": [
    "device = torch.device('cuda' if torch.cuda.is_available() else 'cpu')\n",
    "\n",
    "config = {\n",
    "    'data_amount': 5774,\n",
    "    'max_len': 256,\n",
    "    'batch_size': 64,\n",
    "    'num_epochs': 10,\n",
    "    'learning_rate': 2e-05,\n",
    "    'lr_scheduler_type': \"linear\",\n",
    "    'weight_decay': 0.01,\n",
    "    'logging_steps': 10,\n",
    "    'evaluation_strategy': \"epoch\",\n",
    "    'save_strategy': \"epoch\",\n",
    "    'warmup_steps': 500,\n",
    "    'early_stopping_patience': 3,\n",
    "}\n",
    "\n",
    "bert_type = 'bert-base-german-cased' # bert-base-multilingual-cased # bert-base-german-cased\n",
    "special_tokens = [\"[EMAIL]\", \"[URL]\"]"
   ]
  },
  {
   "cell_type": "markdown",
   "metadata": {},
   "source": [
    "##### Eval"
   ]
  },
  {
   "cell_type": "code",
   "execution_count": null,
   "metadata": {},
   "outputs": [],
   "source": [
    "model_lang = 'german'  # 'german' 'multi'\n",
    "use_own = False\n",
    "use_test_set = True  "
   ]
  },
  {
   "cell_type": "code",
   "execution_count": null,
   "metadata": {},
   "outputs": [],
   "source": [
    "if model_lang == \"german\":\n",
    "    bert_type = 'bert-base-german-cased'    \n",
    "    model_name = 'bert_german_curated'      \n",
    "    test_set_dir = 'german_own_test' if use_test_set else 'german_curated_verification' # german_own_test # german_curated_test\n",
    "    test_csv = (\n",
    "        dpr.path.data.preprocessed.data_bert.own_test_base_bert_csv # german_curated_test_bert_csv # own_test_base_bert_csv\n",
    "        if use_test_set else\n",
    "        dpr.path.data.preprocessed.data_bert.german_curated_verification_bert_csv\n",
    "    )\n",
    "\n",
    "elif model_lang == \"multi\":\n",
    "    bert_type = 'bert-base-multilingual-cased'    \n",
    "    model_name = 'bert_multilingual_curated'     \n",
    "    test_set_dir = 'multilingual_curated_test' if use_test_set else 'multilingual_curated_verification'\n",
    "    test_csv = (\n",
    "        dpr.path.data.preprocessed.data_bert.multilingual_curated_test_bert_csv\n",
    "        if use_test_set else\n",
    "        dpr.path.data.preprocessed.data_bert.multilingual_curated_verification_bert_csv\n",
    "    )\n",
    "\n",
    "else:\n",
    "    bert_type = 'bert-base-cased'           \n",
    "    model_name = 'bert_english_curated'     \n",
    "    test_set_dir = 'english_curated_test' if use_test_set else 'english_curated_verification'\n",
    "    test_csv = (\n",
    "        dpr.path.data.preprocessed.data_bert.english_curated_test_bert_csv\n",
    "        if use_test_set else\n",
    "        dpr.path.data.preprocessed.data_bert.english_curated_verification_bert_csv\n",
    "    )\n",
    "\n",
    "if use_own:\n",
    "    bert_type = 'bert-base-german-cased'    \n",
    "    model_name = 'bert_german_own'      \n",
    "    test_set_dir = 'german_own_test' \n",
    "    test_csv = dpr.path.data.preprocessed.data_bert.own_test_base_bert_csv"
   ]
  },
  {
   "cell_type": "markdown",
   "metadata": {},
   "source": [
    "### Prepare data"
   ]
  },
  {
   "cell_type": "markdown",
   "metadata": {},
   "source": [
    "##### Get model, tokenizer, optimizer"
   ]
  },
  {
   "cell_type": "code",
   "execution_count": null,
   "metadata": {},
   "outputs": [],
   "source": [
    "model, tokenizer = create_model_and_tokenizer(bert_type, special_tokens, device)\n",
    "data_collator = DataCollatorWithPadding(tokenizer=tokenizer)\n",
    "\n",
    "optimizer = torch.optim.AdamW(\n",
    "    model.parameters(), \n",
    "    lr=config['learning_rate'], \n",
    "    betas=(0.9, 0.999), \n",
    "    eps=1e-08\n",
    ")\n",
    "\n",
    "scheduler = None "
   ]
  },
  {
   "cell_type": "markdown",
   "metadata": {},
   "source": [
    "##### Load Train data"
   ]
  },
  {
   "cell_type": "code",
   "execution_count": null,
   "metadata": {},
   "outputs": [],
   "source": [
    "train_eval_data, test_data = load_data(train_csv, test_csv, config['data_amount'])\n",
    "train_data, eval_data = split_data(train_eval_data, eval_size=0.2)\n",
    "#train_data.head(5)"
   ]
  },
  {
   "cell_type": "code",
   "execution_count": null,
   "metadata": {},
   "outputs": [],
   "source": [
    "train_dataset, eval_dataset, test_dataset = create_custom_datasets(\n",
    "    train_data, eval_data, test_data, tokenizer, config['max_len']\n",
    ")"
   ]
  },
  {
   "cell_type": "markdown",
   "metadata": {},
   "source": [
    "### Verify preprocess"
   ]
  },
  {
   "cell_type": "code",
   "execution_count": null,
   "metadata": {},
   "outputs": [],
   "source": [
    "for i in range(5):\n",
    "    sample = train_dataset[i]\n",
    "    print(f\"Sample {i}:\")\n",
    "    print(\"Input IDs:\", sample[\"input_ids\"])\n",
    "    print(\"Attention Mask:\", sample[\"attention_mask\"])\n",
    "    print(\"Label:\", sample[\"labels\"])\n",
    "    print(\"-\" * 40)"
   ]
  },
  {
   "cell_type": "code",
   "execution_count": null,
   "metadata": {},
   "outputs": [],
   "source": [
    "for i in range(5):\n",
    "    print(f\"Sample {i}:\")\n",
    "    print(\"Input IDs length:\", len(train_dataset[i]['input_ids']))\n",
    "    print(\"Attention Mask length:\", len(train_dataset[i]['attention_mask']))\n",
    "    print(\"Label:\", train_dataset[i]['labels'])\n",
    "    print(\"-\" * 40)\n"
   ]
  },
  {
   "cell_type": "markdown",
   "metadata": {},
   "source": [
    "### Train model"
   ]
  },
  {
   "cell_type": "code",
   "execution_count": null,
   "metadata": {},
   "outputs": [],
   "source": [
    "train_bert = False"
   ]
  },
  {
   "cell_type": "code",
   "execution_count": null,
   "metadata": {},
   "outputs": [],
   "source": [
    "if train_bert:\n",
    "    trainer = train_model(model, tokenizer, train_dataset, eval_dataset, config, output_dir, log_dir)"
   ]
  },
  {
   "cell_type": "markdown",
   "metadata": {},
   "source": [
    "### Evaluate model"
   ]
  },
  {
   "cell_type": "code",
   "execution_count": null,
   "metadata": {},
   "outputs": [],
   "source": [
    "output_dir = os.path.join(models_folder, model_name, 'results')\n",
    "eval_results_dir = os.path.join(output_dir, test_set_dir) \n",
    "os.makedirs(eval_results_dir, exist_ok=True)  "
   ]
  },
  {
   "cell_type": "code",
   "execution_count": null,
   "metadata": {},
   "outputs": [],
   "source": [
    "print(f\"Using model: {model_name}\")\n",
    "print(f\"Using BERT type: {bert_type}\")\n",
    "print(f\"Using set: {test_set_dir}\")\n",
    "print(f\"Using CSV: {test_csv}\")\n",
    "print(f\"Evaluation results saved in: {eval_results_dir}\")"
   ]
  },
  {
   "cell_type": "code",
   "execution_count": null,
   "metadata": {},
   "outputs": [],
   "source": [
    "model, tokenizer = load_model_from_checkpoint(output_dir, '2500', device)"
   ]
  },
  {
   "cell_type": "code",
   "execution_count": null,
   "metadata": {},
   "outputs": [],
   "source": [
    "true_labels, predicted_labels, probs = evaluate_model(\n",
    "    model, \n",
    "    test_dataset, \n",
    "    data_collator, \n",
    "    config['batch_size'], \n",
    "    device\n",
    "    )"
   ]
  },
  {
   "cell_type": "markdown",
   "metadata": {},
   "source": [
    "### Visualize results"
   ]
  },
  {
   "cell_type": "markdown",
   "metadata": {},
   "source": [
    "##### Extract metrics"
   ]
  },
  {
   "cell_type": "code",
   "execution_count": null,
   "metadata": {},
   "outputs": [],
   "source": [
    "metrics = visual.extract_all_metrics_from_events(log_dir)\n",
    "extracted_metrics = visual.extract_loss_and_accuracy_metrics(metrics)"
   ]
  },
  {
   "cell_type": "code",
   "execution_count": null,
   "metadata": {},
   "outputs": [],
   "source": [
    "scalar_tag = \"train/learning_rate\"\n",
    "visual.plot_scalar_metric(log_dir, scalar_tag)"
   ]
  },
  {
   "cell_type": "markdown",
   "metadata": {},
   "source": [
    "##### Loss x Epochs & Accuracy x Epochs"
   ]
  },
  {
   "cell_type": "code",
   "execution_count": null,
   "metadata": {},
   "outputs": [],
   "source": [
    "visual.plot_loss_accuracy(extracted_metrics, output_dir)"
   ]
  },
  {
   "cell_type": "code",
   "execution_count": null,
   "metadata": {},
   "outputs": [],
   "source": [
    "base_log_dir = dpr.path.models.bert._path\n",
    "\n",
    "model_folders = {\n",
    "    \"BERT English Curated\": \"bert_english_curated\",\n",
    "    \"BERT German Curated\": \"bert_german_curated\",\n",
    "    \"BERT Multilingual Curated\": \"bert_multilingual_curated\",\n",
    "    #\"BERT German Own\": \"bert_german_own\",\n",
    "}\n",
    "\n",
    "visual.plot_multiple_loss_accuracy(base_log_dir, model_folders, output_dir)\n"
   ]
  },
  {
   "cell_type": "markdown",
   "metadata": {},
   "source": [
    "##### Confusion Matrix"
   ]
  },
  {
   "cell_type": "code",
   "execution_count": null,
   "metadata": {},
   "outputs": [],
   "source": [
    "cm = confusion_matrix(true_labels, predicted_labels)\n",
    "visual.plot_confusion_matrix(cm, eval_results_dir, \"test\")"
   ]
  },
  {
   "cell_type": "markdown",
   "metadata": {},
   "source": [
    "##### ROC"
   ]
  },
  {
   "cell_type": "code",
   "execution_count": null,
   "metadata": {},
   "outputs": [],
   "source": [
    "visual.plot_roc_curve(true_labels, probs, eval_results_dir)"
   ]
  },
  {
   "cell_type": "markdown",
   "metadata": {},
   "source": [
    "##### Precision - Recall"
   ]
  },
  {
   "cell_type": "code",
   "execution_count": null,
   "metadata": {},
   "outputs": [],
   "source": [
    "visual.plot_precision_recall(true_labels, probs, eval_results_dir)"
   ]
  },
  {
   "cell_type": "markdown",
   "metadata": {},
   "source": [
    "##### Classification Report"
   ]
  },
  {
   "cell_type": "code",
   "execution_count": null,
   "metadata": {},
   "outputs": [],
   "source": [
    "visual.display_classification_report(true_labels, predicted_labels, target_names=[\"Legitimate\", \"Phishing\"], save_path=eval_results_dir)"
   ]
  },
  {
   "cell_type": "markdown",
   "metadata": {},
   "source": [
    "### Inference on samples"
   ]
  },
  {
   "cell_type": "markdown",
   "metadata": {},
   "source": [
    "##### English Mails"
   ]
  },
  {
   "cell_type": "code",
   "execution_count": null,
   "metadata": {},
   "outputs": [],
   "source": [
    "s_texts = [\n",
    "    # Legitimate (0) - Order confirmation with personal address\n",
    "    \"Order Confirmation: Your order has been placed! [SEP] Dear Emily, your order #56789 has been successfully placed. You can track your shipment using tracking ID 654321. Thank you for shopping with us!\",\n",
    "\n",
    "    # Phishing (1) - Generic addressing with a suspicious tracking link\n",
    "    \"Urgent: Delivery Issue with Your Package! [SEP] Dear Customer, your package is on hold due to incorrect details. Please update your address immediately here: http://track-your-order.secure-link.com.\",\n",
    "\n",
    "    # Legitimate (0) - Bank account update with secure login instructions\n",
    "    \"Your Monthly Bank Statement is Ready [SEP] Dear Emily, your monthly bank statement is ready for review. Please log in to your account at our official website to view the details.\",\n",
    "\n",
    "    # Phishing (1) - Fake bank alert with urgency and login link\n",
    "    \"Security Alert: Account Flagged! [SEP] Dear user, your bank account has been flagged for suspicious activity! Immediate action required! Log in now to verify: http://securebank-login.com.\",\n",
    "\n",
    "    # Legitimate (0) - Company HR confirmation for an interview\n",
    "    \"Your Interview at XYZ Corp [SEP] Hello Emily, we are pleased to inform you that you have been shortlisted for the marketing role at XYZ Corp. Your interview is scheduled for Monday.\",\n",
    "\n",
    "    # Phishing (1) - Fake job offer requesting sensitive information\n",
    "    \"Exclusive Remote Job Offer – Immediate Start! [SEP] Dear Candidate, congratulations! You have been selected for a high-paying remote job. Please provide your social security number to complete your application.\",\n",
    "\n",
    "    # Legitimate (0) - Subscription renewal notice with proper details\n",
    "    \"Reminder: Your Subscription Renewal [SEP] Dear Emily, your annual subscription for Premium Streaming Service is about to expire. Please renew before 10/12/2024 to continue enjoying our services.\",\n",
    "\n",
    "    # Phishing (1) - Fake subscription renewal with urgency and fake login link\n",
    "    \"Final Notice: Subscription Expiring Today! [SEP] Dear user, your subscription is expiring today! Renew now to avoid losing access. Click here to update your payment details: http://renewal-fastpay.com.\",\n",
    "\n",
    "    # Legitimate (0) - Real promotional email with a verified discount code\n",
    "    \"Enjoy 20% Off on Your Next Purchase! [SEP] Happy Holidays, Emily! Enjoy a 20% discount on your next purchase with us. Use code HOLIDAY20 at checkout. Offer valid until 01/05/2024.\",\n",
    "\n",
    "    # Phishing (1) - Fake giveaway requiring personal details\n",
    "    \"You've Won a Free iPhone 15! [SEP] Congratulations! You have won a free iPhone 15! Claim your prize now by providing your name, address, and payment for shipping at http://win-free-gift.com.\"\n",
    "]\n",
    "\n",
    "s_true_labels = [\n",
    "    0, 1, 0, 1, 0, 1, 0, 1, 0, 1\n",
    "]"
   ]
  },
  {
   "cell_type": "markdown",
   "metadata": {},
   "source": [
    "##### German Mails"
   ]
  },
  {
   "cell_type": "code",
   "execution_count": null,
   "metadata": {},
   "outputs": [],
   "source": [
    "s_texts += [\n",
    "    # Legitimate (0) - Bestellbestätigung mit persönlicher Anrede\n",
    "    \"Bestellbestätigung: Ihre Bestellung wurde bearbeitet! [SEP] Hallo Julia, Ihre Bestellung #98765 wurde erfolgreich bearbeitet. Die Sendungsnummer lautet 112233. Vielen Dank für Ihren Einkauf!\",\n",
    "\n",
    "    # Phishing (1) - Allgemeine Anrede mit dringender Handlungsaufforderung\n",
    "    \"Dringend: Problem mit Ihrer Lieferung! [SEP] Sehr geehrter Kunde, Ihr Paket konnte nicht zugestellt werden. Aktualisieren Sie Ihre Adresse jetzt hier: http://paket-tracking.de-verify.com.\",\n",
    "\n",
    "    # Legitimate (0) - Bankbenachrichtigung mit sicherer Anmeldung\n",
    "    \"Ihr Kontoauszug für diesen Monat [SEP] Liebe Julia, Ihr Kontoauszug für diesen Monat ist nun verfügbar. Loggen Sie sich sicher über unsere offizielle Website ein, um ihn anzusehen.\",\n",
    "\n",
    "    # Phishing (1) - Falsche Bankwarnung mit gefälschtem Login-Link\n",
    "    \"Sicherheitswarnung: Ihr Konto wurde gesperrt! [SEP] Sehr geehrter Nutzer, Ihr Bankkonto wurde gesperrt! Loggen Sie sich sofort ein, um Ihr Konto zu entsperren: http://sicherebank-login.de.\",\n",
    "\n",
    "    # Legitimate (0) - Einladung zu einem Vorstellungsgespräch\n",
    "    \"Einladung zum Vorstellungsgespräch [SEP] Hallo Julia, wir freuen uns, Ihnen mitzuteilen, dass Sie für ein Vorstellungsgespräch bei ABC GmbH ausgewählt wurden. Termin: Montag, 10 Uhr.\",\n",
    "\n",
    "    # Phishing (1) - Angeblich hochbezahlte Stelle mit Aufforderung zur Datenweitergabe\n",
    "    \"Exklusiver Job für Sie – Handeln Sie schnell! [SEP] Herzlichen Glückwunsch! Sie wurden für eine exklusive Heimarbeitsstelle ausgewählt. Bitte senden Sie uns Ihre persönlichen Daten zur Anmeldung.\",\n",
    "\n",
    "    # Legitimate (0) - Abo-Erinnerung mit richtigen Details\n",
    "    \"Erinnerung: Ihr Abonnement läuft bald aus [SEP] Hallo Julia, Ihr Premium-Abo läuft bald ab. Verlängern Sie es bis zum 15.12.2024, um weiterhin unbegrenzten Zugang zu genießen.\",\n",
    "\n",
    "    # Phishing (1) - Gefälschte Abo-Erneuerung mit Dringlichkeit\n",
    "    \"Letzte Chance: Abo-Verlängerung erforderlich! [SEP] Achtung! Ihr Abonnement läuft heute aus. Verlängern Sie es jetzt, um weiterhin Zugriff zu haben: http://abo-verlängerung-jetzt.com.\",\n",
    "\n",
    "    # Legitimate (0) - Echtes Werbeangebot mit Rabattcode\n",
    "    \"15% Rabatt für Sie – Jetzt sichern! [SEP] Hallo Julia, nutzen Sie unseren exklusiven Sommer-Rabatt! Sparen Sie 15% mit dem Code SOMMER15. Gültig bis 30.06.2024.\",\n",
    "\n",
    "    # Phishing (1) - Betrügerisches Gewinnspiel mit Aufforderung zur Datenangabe\n",
    "    \"Sie haben eine Traumreise gewonnen! [SEP] Herzlichen Glückwunsch! Sie haben eine Traumreise gewonnen! Bestätigen Sie Ihre Teilnahme, indem Sie Ihre persönlichen Daten eingeben: http://gratis-reise.com.\"\n",
    "]\n",
    "\n",
    "s_true_labels += [\n",
    "    0, 1, 0, 1, 0, 1, 0, 1, 0, 1\n",
    "]"
   ]
  },
  {
   "cell_type": "markdown",
   "metadata": {},
   "source": [
    "##### Predict samples"
   ]
  },
  {
   "cell_type": "code",
   "execution_count": null,
   "metadata": {},
   "outputs": [],
   "source": [
    "s_true_labels, s_predicted_labels, s_probs = inference(\n",
    "    model, s_texts, s_true_labels, tokenizer,  config['max_len'], device\n",
    ")"
   ]
  },
  {
   "cell_type": "code",
   "execution_count": null,
   "metadata": {},
   "outputs": [],
   "source": [
    "visual.display_inference_results(s_texts, s_true_labels, s_predicted_labels, s_probs, class_names=[\"Legitimate\", \"Phishing\"])"
   ]
  },
  {
   "cell_type": "markdown",
   "metadata": {},
   "source": [
    "##### Classification report"
   ]
  },
  {
   "cell_type": "code",
   "execution_count": null,
   "metadata": {},
   "outputs": [],
   "source": [
    "visual.display_classification_report(s_true_labels, s_predicted_labels, target_names=[\"Legitimate\", \"Phishing\"])"
   ]
  }
 ],
 "metadata": {
  "kernelspec": {
   "display_name": ".venv",
   "language": "python",
   "name": "python3"
  },
  "language_info": {
   "codemirror_mode": {
    "name": "ipython",
    "version": 3
   },
   "file_extension": ".py",
   "mimetype": "text/x-python",
   "name": "python",
   "nbconvert_exporter": "python",
   "pygments_lexer": "ipython3",
   "version": "3.10.6"
  }
 },
 "nbformat": 4,
 "nbformat_minor": 2
}
