{
 "cells": [
  {
   "cell_type": "markdown",
   "metadata": {},
   "source": [
    "### Imports"
   ]
  },
  {
   "cell_type": "code",
   "execution_count": 2,
   "metadata": {},
   "outputs": [
    {
     "name": "stderr",
     "output_type": "stream",
     "text": [
      "[nltk_data] Downloading package stopwords to\n",
      "[nltk_data]     C:\\Users\\ilian\\AppData\\Roaming\\nltk_data...\n",
      "[nltk_data]   Package stopwords is already up-to-date!\n"
     ]
    }
   ],
   "source": [
    "import sys\n",
    "import os\n",
    "sys.path.append(os.path.abspath('../../src'))\n",
    "\n",
    "from helper_functions.path_resolver import DynamicPathResolver\n",
    "from model_training.meta import *"
   ]
  },
  {
   "cell_type": "markdown",
   "metadata": {},
   "source": [
    "### Paths"
   ]
  },
  {
   "cell_type": "code",
   "execution_count": 3,
   "metadata": {},
   "outputs": [
    {
     "name": "stdout",
     "output_type": "stream",
     "text": [
      "Project Root: c:\\Users\\ilian\\Documents\\Projects\\git_projects\\university\\phishing_bert\n"
     ]
    }
   ],
   "source": [
    "dpr = DynamicPathResolver(marker=\"README.md\")\n",
    "\n",
    "train_preprocessed = dpr.path.data.preprocessed.data_meta.english_curated_train_meta_csv #own_train_base_meta_csv # german_curated_train_meta_csv\n",
    "test_preprocessed  = dpr.path.data.preprocessed.data_meta.english_curated_test_meta_csv #own_test_base_meta_csv # german_curated_test_meta_csv\n",
    "\n",
    "models_folder = dpr.path.models.meta._path\n",
    "output_dir = dpr.path.models.meta.results._path"
   ]
  },
  {
   "cell_type": "markdown",
   "metadata": {},
   "source": [
    "### Prepare data"
   ]
  },
  {
   "cell_type": "code",
   "execution_count": 4,
   "metadata": {},
   "outputs": [],
   "source": [
    "set_seed(42)"
   ]
  },
  {
   "cell_type": "markdown",
   "metadata": {},
   "source": [
    "##### Load data"
   ]
  },
  {
   "cell_type": "code",
   "execution_count": null,
   "metadata": {},
   "outputs": [],
   "source": [
    "df_train, df_test = load_preprocessed_data(train_preprocessed, test_preprocessed)"
   ]
  },
  {
   "cell_type": "code",
   "execution_count": null,
   "metadata": {},
   "outputs": [],
   "source": [
    "print(\"\\n=== Updated Class Distribution (Train) ===\")\n",
    "print(df_train['label'].value_counts(), \"\\n\")\n",
    "\n",
    "print(\"\\n=== Updated Class Distribution (Test) ===\")\n",
    "print(df_test['label'].value_counts(), \"\\n\")\n"
   ]
  },
  {
   "cell_type": "markdown",
   "metadata": {},
   "source": [
    "##### Remove extra columns"
   ]
  },
  {
   "cell_type": "code",
   "execution_count": null,
   "metadata": {},
   "outputs": [],
   "source": [
    "df_train = df_train.drop(columns=['readability_score', 'word_count'], errors='ignore')"
   ]
  },
  {
   "cell_type": "code",
   "execution_count": null,
   "metadata": {},
   "outputs": [],
   "source": [
    "df_test = df_test.drop(columns=['readability_score', 'word_count'], errors='ignore')"
   ]
  },
  {
   "cell_type": "code",
   "execution_count": null,
   "metadata": {},
   "outputs": [],
   "source": [
    "print(\"=== df_train (own dataset) describe ===\")\n",
    "print(df_train.describe())"
   ]
  },
  {
   "cell_type": "markdown",
   "metadata": {},
   "source": [
    "##### Train, Val Split"
   ]
  },
  {
   "cell_type": "code",
   "execution_count": null,
   "metadata": {},
   "outputs": [],
   "source": [
    "X = df_train.drop(columns=['label'])\n",
    "y = df_train['label']"
   ]
  },
  {
   "cell_type": "code",
   "execution_count": null,
   "metadata": {},
   "outputs": [],
   "source": [
    "X_train, X_val, y_train, y_val = train_test_split(X, y, test_size=0.2, random_state=42, stratify=y)\n",
    "y_test = df_test['label']"
   ]
  },
  {
   "cell_type": "markdown",
   "metadata": {},
   "source": [
    "##### Load vectorizer"
   ]
  },
  {
   "cell_type": "code",
   "execution_count": null,
   "metadata": {},
   "outputs": [],
   "source": [
    "vectorizer_path = os.path.join(models_folder, \"\", \"tfidf_vectorizer.pkl\")\n",
    "fitted_vectorizer = joblib.load(vectorizer_path)"
   ]
  },
  {
   "cell_type": "markdown",
   "metadata": {},
   "source": [
    "##### Unscaled preprocessed"
   ]
  },
  {
   "cell_type": "code",
   "execution_count": null,
   "metadata": {},
   "outputs": [],
   "source": [
    "X_train_combined, y_train, fitted_vectorizer = preprocess_dataframe(\n",
    "    pd.concat([X_train, y_train], axis=1), \n",
    "    vectorizer=None, \n",
    "    fit_vectorizer=True, \n",
    "    scale=False\n",
    "    )"
   ]
  },
  {
   "cell_type": "code",
   "execution_count": null,
   "metadata": {},
   "outputs": [],
   "source": [
    "X_val_combined, y_val = preprocess_dataframe(\n",
    "    pd.concat([X_val, y_val], axis=1), \n",
    "    vectorizer=fitted_vectorizer, \n",
    "    fit_vectorizer=False, \n",
    "    scale=False\n",
    "    )"
   ]
  },
  {
   "cell_type": "code",
   "execution_count": null,
   "metadata": {},
   "outputs": [],
   "source": [
    "X_test_combined, y_test = preprocess_dataframe(\n",
    "    df_test, \n",
    "    vectorizer=fitted_vectorizer, \n",
    "    fit_vectorizer=False, \n",
    "    scale=False\n",
    "    )"
   ]
  },
  {
   "cell_type": "code",
   "execution_count": null,
   "metadata": {},
   "outputs": [],
   "source": [
    "print(f\"Final Train Shape: {X_train_combined.shape}\")\n",
    "print(f\"Final Val Shape: {X_val_combined.shape}\")\n",
    "print(f\"Final Test Shape: {X_test_combined.shape}\")"
   ]
  },
  {
   "cell_type": "markdown",
   "metadata": {},
   "source": [
    "##### Scaled preprocessed"
   ]
  },
  {
   "cell_type": "code",
   "execution_count": null,
   "metadata": {},
   "outputs": [],
   "source": [
    "X_train_combined_scaled, y_train_scaled, _ = preprocess_dataframe(\n",
    "    pd.concat([X_train, y_train], axis=1), \n",
    "    vectorizer=None, \n",
    "    fit_vectorizer=True, \n",
    "    scale=True\n",
    "    )"
   ]
  },
  {
   "cell_type": "code",
   "execution_count": null,
   "metadata": {},
   "outputs": [],
   "source": [
    "X_val_combined_scaled, y_val_scaled = preprocess_dataframe(\n",
    "    pd.concat([X_val, y_val], axis=1), \n",
    "    vectorizer=fitted_vectorizer, \n",
    "    fit_vectorizer=False, \n",
    "    scale=True\n",
    "    )"
   ]
  },
  {
   "cell_type": "code",
   "execution_count": null,
   "metadata": {},
   "outputs": [],
   "source": [
    "X_test_combined_scaled, y_test_scaled = preprocess_dataframe(\n",
    "    df_test, \n",
    "    vectorizer=fitted_vectorizer, \n",
    "    fit_vectorizer=False, \n",
    "    scale=True\n",
    "    )"
   ]
  },
  {
   "cell_type": "code",
   "execution_count": null,
   "metadata": {},
   "outputs": [],
   "source": [
    "print(f\"Final Train Shape: {X_train_combined_scaled.shape}\")\n",
    "print(f\"Final Val Shape: {X_val_combined_scaled.shape}\")\n",
    "print(f\"Final Test Shape: {X_test_combined_scaled.shape}\")"
   ]
  },
  {
   "cell_type": "markdown",
   "metadata": {},
   "source": [
    "##### Save vectorizer"
   ]
  },
  {
   "cell_type": "code",
   "execution_count": null,
   "metadata": {},
   "outputs": [],
   "source": [
    "#joblib.dump(fitted_vectorizer, os.path.join(models_folder, \"tfidf_vectorizer.pkl\"))"
   ]
  },
  {
   "cell_type": "markdown",
   "metadata": {},
   "source": [
    "### Train"
   ]
  },
  {
   "cell_type": "markdown",
   "metadata": {},
   "source": [
    "##### Define models for Grid Search"
   ]
  },
  {
   "cell_type": "code",
   "execution_count": null,
   "metadata": {},
   "outputs": [],
   "source": [
    "model_names = [\"naive_bayes\", \"log_regression\", \"decision_tree\", \"random_forest\"]"
   ]
  },
  {
   "cell_type": "code",
   "execution_count": null,
   "metadata": {},
   "outputs": [],
   "source": [
    "models = {\n",
    "    \"naive_bayes\":      (MultinomialNB(), {\n",
    "        'alpha': [0.01, 0.1, 0.5, 1, 2, 5]\n",
    "        }),\n",
    "\n",
    "    \"log_regression\":   (LogisticRegression(max_iter=500), {\n",
    "        'C': [0.01, 0.1, 1, 10, 100], \n",
    "        'solver': ['liblinear', 'saga'], \n",
    "        'max_iter': [200, 500, 1000]\n",
    "        }),\n",
    "\n",
    "    \"decision_tree\":    (DecisionTreeClassifier(), {\n",
    "        'max_depth': [None, 10, 20, 30], \n",
    "        'min_samples_split': [2, 5, 10], \n",
    "        'min_samples_leaf': [1, 2, 4], \n",
    "        'criterion': ['gini', 'entropy']\n",
    "        }),\n",
    "\n",
    "    \"random_forest\":    (RandomForestClassifier(), {\n",
    "        'n_estimators': [100, 200, 500], \n",
    "        'max_depth': [None, 10, 20, 30], \n",
    "        'min_samples_split': [2, 5, 10], \n",
    "        'min_samples_leaf': [1, 2, 4]\n",
    "        })\n",
    "}"
   ]
  },
  {
   "cell_type": "markdown",
   "metadata": {},
   "source": [
    "##### Train models"
   ]
  },
  {
   "cell_type": "code",
   "execution_count": null,
   "metadata": {},
   "outputs": [],
   "source": [
    "train_models = False"
   ]
  },
  {
   "cell_type": "code",
   "execution_count": null,
   "metadata": {},
   "outputs": [],
   "source": [
    "if train_models:\n",
    "    trained_models = {}\n",
    "\n",
    "    for model_name, (model, param_grid) in models.items():\n",
    "        scale = model_name in [\"log_regression\"]\n",
    "        trained_models[model_name] = train_and_save_model(\n",
    "            model, \n",
    "            param_grid, \n",
    "            X_train_combined_scaled if scale else X_train_combined, \n",
    "            y_train, \n",
    "            model_name, \n",
    "            models_folder, \n",
    "            scale_features=scale\n",
    "            )"
   ]
  },
  {
   "cell_type": "markdown",
   "metadata": {},
   "source": [
    "##### Train Ensemble"
   ]
  },
  {
   "cell_type": "code",
   "execution_count": null,
   "metadata": {},
   "outputs": [],
   "source": [
    "train_ensemble = False"
   ]
  },
  {
   "cell_type": "code",
   "execution_count": null,
   "metadata": {},
   "outputs": [],
   "source": [
    "if train_ensemble:\n",
    "    ensemble_model = create_and_train_ensemble(models_folder, model_names)\n",
    "    ensemble_model.fit(X_train_combined, y_train)\n",
    "    save_model(ensemble_model, models_folder, \"ensemble_model\")"
   ]
  },
  {
   "cell_type": "markdown",
   "metadata": {},
   "source": [
    "### Evaluate"
   ]
  },
  {
   "cell_type": "code",
   "execution_count": null,
   "metadata": {},
   "outputs": [],
   "source": [
    "eval_scaled_x = X_test_combined_scaled   # X_val_combined_scaled # X_test_combined_scaled \n",
    "eval_scaled_y = y_test_scaled            # y_val_scaled          # y_test_scaled\n",
    " \n",
    "eval_unscaled_x = X_test_combined        # X_val_combined # X_test_combined\n",
    "eval_unscaled_y = y_test                 # y_val          # y_test"
   ]
  },
  {
   "cell_type": "markdown",
   "metadata": {},
   "source": [
    "##### Evaluate model (scaled)"
   ]
  },
  {
   "cell_type": "code",
   "execution_count": null,
   "metadata": {},
   "outputs": [],
   "source": [
    "model = load_model(models_folder, 'log_regression')\n",
    "y_pred, acc, report_df, conf_matrix = evaluate_model(model, eval_scaled_x, eval_scaled_y, model_name='log_regression', output_folder=output_dir)"
   ]
  },
  {
   "cell_type": "markdown",
   "metadata": {},
   "source": [
    "##### Evaluate models (unscaled)"
   ]
  },
  {
   "cell_type": "code",
   "execution_count": null,
   "metadata": {},
   "outputs": [],
   "source": [
    "model_names = [\"naive_bayes\", \"decision_tree\", \"random_forest\"]"
   ]
  },
  {
   "cell_type": "code",
   "execution_count": null,
   "metadata": {},
   "outputs": [],
   "source": [
    "for model_name in model_names:\n",
    "    model = load_model(models_folder, model_name)\n",
    "    evaluate_model(model, eval_unscaled_x, eval_unscaled_y, model_name=model_name, output_folder=output_dir)"
   ]
  },
  {
   "cell_type": "markdown",
   "metadata": {},
   "source": [
    "##### Evaluate ensemble"
   ]
  },
  {
   "cell_type": "code",
   "execution_count": null,
   "metadata": {},
   "outputs": [],
   "source": [
    "ensemble_model = load_model(models_folder, \"ensemble_model\")\n",
    "y_pred, acc, report_df, conf_matrix = evaluate_model(ensemble_model, eval_unscaled_x, eval_unscaled_y, model_name=\"ensemble_model\", output_folder=output_dir)"
   ]
  },
  {
   "cell_type": "markdown",
   "metadata": {},
   "source": [
    "### Feature Distribution"
   ]
  },
  {
   "cell_type": "code",
   "execution_count": null,
   "metadata": {},
   "outputs": [],
   "source": [
    "X_test_numerical_full = df_test.drop(columns=['label', 'body'], errors='ignore')"
   ]
  },
  {
   "cell_type": "code",
   "execution_count": null,
   "metadata": {},
   "outputs": [],
   "source": [
    "analyze_feature_distributions(\n",
    "    X_val.drop(columns=['body']), \n",
    "    X_test_numerical_full, \n",
    "    fitted_vectorizer.transform(X_val['body']), \n",
    "    fitted_vectorizer.transform(df_test['body'])\n",
    "    )\n",
    "\n",
    "feature_distribution_dir = os.path.join(output_dir, 'feature_distribution')\n",
    "os.makedirs(feature_distribution_dir, exist_ok=True)\n",
    "save_feature_distributions(X_val.drop(columns=['body'], errors='ignore'), X_test_numerical_full, feature_distribution_dir)"
   ]
  },
  {
   "cell_type": "code",
   "execution_count": 8,
   "metadata": {},
   "outputs": [
    {
     "name": "stdout",
     "output_type": "stream",
     "text": [
      "\n",
      "=== Best Parameters for models in: meta_english_curated ===\n",
      "\n",
      "{'alpha': 0.01, 'class_prior': None, 'fit_prior': True, 'force_alpha': True}\n",
      "{'C': 0.01, 'class_weight': None, 'dual': False, 'fit_intercept': True, 'intercept_scaling': 1, 'l1_ratio': None, 'max_iter': 1000, 'multi_class': 'deprecated', 'n_jobs': None, 'penalty': 'l2', 'random_state': None, 'solver': 'saga', 'tol': 0.0001, 'verbose': 0, 'warm_start': False}\n",
      "{'ccp_alpha': 0.0, 'class_weight': None, 'criterion': 'entropy', 'max_depth': 30, 'max_features': None, 'max_leaf_nodes': None, 'min_impurity_decrease': 0.0, 'min_samples_leaf': 1, 'min_samples_split': 2, 'min_weight_fraction_leaf': 0.0, 'monotonic_cst': None, 'random_state': None, 'splitter': 'best'}\n",
      "{'bootstrap': True, 'ccp_alpha': 0.0, 'class_weight': None, 'criterion': 'gini', 'max_depth': None, 'max_features': 'sqrt', 'max_leaf_nodes': None, 'max_samples': None, 'min_impurity_decrease': 0.0, 'min_samples_leaf': 1, 'min_samples_split': 2, 'min_weight_fraction_leaf': 0.0, 'monotonic_cst': None, 'n_estimators': 500, 'n_jobs': None, 'oob_score': False, 'random_state': None, 'verbose': 0, 'warm_start': False}\n",
      "\n",
      "=== Best Parameters for models in: meta_german_curated ===\n",
      "\n",
      "{'alpha': 0.01, 'class_prior': None, 'fit_prior': True, 'force_alpha': True}\n",
      "{'C': 0.01, 'class_weight': None, 'dual': False, 'fit_intercept': True, 'intercept_scaling': 1, 'l1_ratio': None, 'max_iter': 200, 'multi_class': 'deprecated', 'n_jobs': None, 'penalty': 'l2', 'random_state': None, 'solver': 'saga', 'tol': 0.0001, 'verbose': 0, 'warm_start': False}\n",
      "{'ccp_alpha': 0.0, 'class_weight': None, 'criterion': 'gini', 'max_depth': None, 'max_features': None, 'max_leaf_nodes': None, 'min_impurity_decrease': 0.0, 'min_samples_leaf': 1, 'min_samples_split': 2, 'min_weight_fraction_leaf': 0.0, 'monotonic_cst': None, 'random_state': None, 'splitter': 'best'}\n",
      "{'bootstrap': True, 'ccp_alpha': 0.0, 'class_weight': None, 'criterion': 'gini', 'max_depth': None, 'max_features': 'sqrt', 'max_leaf_nodes': None, 'max_samples': None, 'min_impurity_decrease': 0.0, 'min_samples_leaf': 1, 'min_samples_split': 2, 'min_weight_fraction_leaf': 0.0, 'monotonic_cst': None, 'n_estimators': 200, 'n_jobs': None, 'oob_score': False, 'random_state': None, 'verbose': 0, 'warm_start': False}\n",
      "\n",
      "=== Best Parameters for models in: meta_multilingual_curated ===\n",
      "\n",
      "{'alpha': 0.01, 'class_prior': None, 'fit_prior': True, 'force_alpha': True}\n",
      "{'C': 0.01, 'class_weight': None, 'dual': False, 'fit_intercept': True, 'intercept_scaling': 1, 'l1_ratio': None, 'max_iter': 200, 'multi_class': 'deprecated', 'n_jobs': None, 'penalty': 'l2', 'random_state': None, 'solver': 'saga', 'tol': 0.0001, 'verbose': 0, 'warm_start': False}\n",
      "{'ccp_alpha': 0.0, 'class_weight': None, 'criterion': 'gini', 'max_depth': 30, 'max_features': None, 'max_leaf_nodes': None, 'min_impurity_decrease': 0.0, 'min_samples_leaf': 1, 'min_samples_split': 2, 'min_weight_fraction_leaf': 0.0, 'monotonic_cst': None, 'random_state': None, 'splitter': 'best'}\n",
      "{'bootstrap': True, 'ccp_alpha': 0.0, 'class_weight': None, 'criterion': 'gini', 'max_depth': None, 'max_features': 'sqrt', 'max_leaf_nodes': None, 'max_samples': None, 'min_impurity_decrease': 0.0, 'min_samples_leaf': 1, 'min_samples_split': 2, 'min_weight_fraction_leaf': 0.0, 'monotonic_cst': None, 'n_estimators': 500, 'n_jobs': None, 'oob_score': False, 'random_state': None, 'verbose': 0, 'warm_start': False}\n",
      "\n",
      "=== Best Parameters for models in: meta_german_own ===\n",
      "\n",
      "{'alpha': 0.01, 'class_prior': None, 'fit_prior': True, 'force_alpha': True}\n",
      "{'C': 1, 'class_weight': None, 'dual': False, 'fit_intercept': True, 'intercept_scaling': 1, 'l1_ratio': None, 'max_iter': 200, 'multi_class': 'deprecated', 'n_jobs': None, 'penalty': 'l2', 'random_state': None, 'solver': 'liblinear', 'tol': 0.0001, 'verbose': 0, 'warm_start': False}\n",
      "{'ccp_alpha': 0.0, 'class_weight': None, 'criterion': 'entropy', 'max_depth': 20, 'max_features': None, 'max_leaf_nodes': None, 'min_impurity_decrease': 0.0, 'min_samples_leaf': 2, 'min_samples_split': 5, 'min_weight_fraction_leaf': 0.0, 'monotonic_cst': None, 'random_state': None, 'splitter': 'best'}\n",
      "{'bootstrap': True, 'ccp_alpha': 0.0, 'class_weight': None, 'criterion': 'gini', 'max_depth': None, 'max_features': 'sqrt', 'max_leaf_nodes': None, 'max_samples': None, 'min_impurity_decrease': 0.0, 'min_samples_leaf': 1, 'min_samples_split': 5, 'min_weight_fraction_leaf': 0.0, 'monotonic_cst': None, 'n_estimators': 200, 'n_jobs': None, 'oob_score': False, 'random_state': None, 'verbose': 0, 'warm_start': False}\n"
     ]
    }
   ],
   "source": [
    "import os\n",
    "import joblib\n",
    "\n",
    "# Define model subfolders\n",
    "datasets = [\"meta_english_curated\", \"meta_german_curated\", \"meta_multilingual_curated\", \"meta_german_own\"]\n",
    "model_names = [\"naive_bayes\", \"log_regression\", \"decision_tree\", \"random_forest\"]\n",
    "\n",
    "# Iterate over all datasets and models\n",
    "for dataset in datasets:\n",
    "    print(f\"\\n=== Best Parameters for models in: {dataset} ===\\n\")\n",
    "    for model_name in model_names:\n",
    "        dataset_folder = os.path.join(models_folder, dataset)\n",
    "        model = load_model(dataset_folder, model_name)\n",
    "        \n",
    "        model_path = os.path.join(dataset_folder, f\"{model_name}.pkl\")\n",
    "        print(model.get_params())\n",
    "\n"
   ]
  }
 ],
 "metadata": {
  "kernelspec": {
   "display_name": ".venv",
   "language": "python",
   "name": "python3"
  },
  "language_info": {
   "codemirror_mode": {
    "name": "ipython",
    "version": 3
   },
   "file_extension": ".py",
   "mimetype": "text/x-python",
   "name": "python",
   "nbconvert_exporter": "python",
   "pygments_lexer": "ipython3",
   "version": "3.10.6"
  }
 },
 "nbformat": 4,
 "nbformat_minor": 2
}
