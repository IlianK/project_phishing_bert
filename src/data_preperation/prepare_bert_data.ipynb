{
 "cells": [
  {
   "cell_type": "markdown",
   "metadata": {},
   "source": [
    "### Imports"
   ]
  },
  {
   "cell_type": "code",
   "execution_count": 2,
   "metadata": {},
   "outputs": [],
   "source": [
    "import sys, os\n",
    "sys.path.append(os.path.abspath('../../src'))\n",
    "\n",
    "from helper_functions.path_resolver import DynamicPathResolver\n",
    "from helper_functions.preparation import *"
   ]
  },
  {
   "cell_type": "markdown",
   "metadata": {},
   "source": [
    "### Paths"
   ]
  },
  {
   "cell_type": "code",
   "execution_count": 3,
   "metadata": {},
   "outputs": [
    {
     "name": "stdout",
     "output_type": "stream",
     "text": [
      "Project Root: c:\\Users\\ilian\\Documents\\Projects\\git_projects\\university\\phishing_bert\n"
     ]
    }
   ],
   "source": [
    "dpr = DynamicPathResolver(marker=\"README.md\")\n",
    "\n",
    "data_mail_dir = dpr.path.data.raw.data_mail.sets._path\n",
    "data_bert_dir = dpr.path.data.preprocessed.data_bert._path"
   ]
  },
  {
   "cell_type": "markdown",
   "metadata": {},
   "source": [
    "### Test Preprocessing"
   ]
  },
  {
   "cell_type": "code",
   "execution_count": null,
   "metadata": {},
   "outputs": [],
   "source": [
    "train_raw = os.path.join(data_mail_dir, \"own_train_base.csv\")\n",
    "test_raw = os.path.join(data_mail_dir, \"own_test_base.csv\")"
   ]
  },
  {
   "cell_type": "code",
   "execution_count": null,
   "metadata": {},
   "outputs": [],
   "source": [
    "sample_preprocessed_bert_data(train_raw, n=1)"
   ]
  },
  {
   "cell_type": "code",
   "execution_count": null,
   "metadata": {},
   "outputs": [],
   "source": [
    "sample_preprocessed_bert_data(test_raw, n=1)"
   ]
  },
  {
   "cell_type": "markdown",
   "metadata": {},
   "source": [
    "##### No subject / body"
   ]
  },
  {
   "cell_type": "code",
   "execution_count": null,
   "metadata": {},
   "outputs": [],
   "source": [
    "df = read_dataset(train_raw)\n",
    "df = process_text_columns(df)\n",
    "\n",
    "no_subject_count = (df['subject'] == '[NO_SUBJECT]').sum()\n",
    "no_body_count = (df['body'] == '[NO_BODY]').sum()\n",
    "\n",
    "print(f\"Rows with [NO_SUBJECT]: {no_subject_count}\")\n",
    "print(f\"Rows with [NO_BODY]: {no_body_count}\")"
   ]
  },
  {
   "cell_type": "markdown",
   "metadata": {},
   "source": [
    "### Preprocess"
   ]
  },
  {
   "cell_type": "markdown",
   "metadata": {},
   "source": [
    "##### Individual"
   ]
  },
  {
   "cell_type": "code",
   "execution_count": 4,
   "metadata": {},
   "outputs": [],
   "source": [
    "train_raw = os.path.join(data_mail_dir, \"own_train_base.csv\")\n",
    "test_raw = os.path.join(data_mail_dir, \"own_test_base.csv\")\n",
    "\n",
    "train_preprocessed = os.path.join(data_bert_dir, \"own_train_base_bert.csv\")\n",
    "test_preprocessed  = os.path.join(data_bert_dir, \"own_test_base_bert.csv\")"
   ]
  },
  {
   "cell_type": "code",
   "execution_count": 5,
   "metadata": {},
   "outputs": [
    {
     "name": "stdout",
     "output_type": "stream",
     "text": [
      "Char Count (Original): 11418008\n",
      "Char Count (Processed): 7698705\n",
      "Char Reduction (Overall): 32.57%\n",
      "Char Reduction (Avg. per row): 15.74%\n",
      "Processed saved to c:\\Users\\ilian\\Documents\\Projects\\git_projects\\university\\phishing_bert\\data\\preprocessed\\data_bert\\own_train_base_bert.csv\n"
     ]
    }
   ],
   "source": [
    "prepare_and_save_bert_data(train_raw, train_preprocessed)"
   ]
  },
  {
   "cell_type": "code",
   "execution_count": 6,
   "metadata": {},
   "outputs": [
    {
     "name": "stdout",
     "output_type": "stream",
     "text": [
      "Char Count (Original): 3014960\n",
      "Char Count (Processed): 2024101\n",
      "Char Reduction (Overall): 32.86%\n",
      "Char Reduction (Avg. per row): 15.66%\n",
      "Processed saved to c:\\Users\\ilian\\Documents\\Projects\\git_projects\\university\\phishing_bert\\data\\preprocessed\\data_bert\\own_test_base_bert.csv\n"
     ]
    }
   ],
   "source": [
    "prepare_and_save_bert_data(test_raw, test_preprocessed)"
   ]
  },
  {
   "cell_type": "markdown",
   "metadata": {},
   "source": [
    "##### Preprocess All"
   ]
  },
  {
   "cell_type": "code",
   "execution_count": 4,
   "metadata": {},
   "outputs": [],
   "source": [
    "bert_datasets = {\n",
    "    \"english_curated\": {\n",
    "         \"train_raw\": os.path.join(data_mail_dir, \"english_curated_train.csv\"),\n",
    "         \"test_raw\": os.path.join(data_mail_dir, \"english_curated_test.csv\"),\n",
    "         \"train_preprocessed\": os.path.join(data_bert_dir, \"english_curated_train_bert.csv\"),\n",
    "         \"test_preprocessed\": os.path.join(data_bert_dir, \"english_curated_test_bert.csv\")\n",
    "    },\n",
    "    \"german_curated\": {\n",
    "         \"train_raw\": os.path.join(data_mail_dir, \"german_curated_train.csv\"),\n",
    "         \"test_raw\": os.path.join(data_mail_dir, \"german_curated_test.csv\"),\n",
    "         \"train_preprocessed\": os.path.join(data_bert_dir, \"german_curated_train_bert.csv\"),\n",
    "         \"test_preprocessed\": os.path.join(data_bert_dir, \"german_curated_test_bert.csv\")\n",
    "    },\n",
    "    \"multilingual_curated\": {\n",
    "         \"train_raw\": os.path.join(data_mail_dir, \"multilingual_curated_train.csv\"),\n",
    "         \"test_raw\": os.path.join(data_mail_dir, \"multilingual_curated_test.csv\"),\n",
    "         \"train_preprocessed\": os.path.join(data_bert_dir, \"multilingual_curated_train_bert.csv\"),\n",
    "         \"test_preprocessed\": os.path.join(data_bert_dir, \"multilingual_curated_test_bert.csv\")\n",
    "    },\n",
    "}"
   ]
  },
  {
   "cell_type": "code",
   "execution_count": null,
   "metadata": {},
   "outputs": [],
   "source": [
    "bert_datasets = {\n",
    "    \"english_own\": {\n",
    "         \"train_raw\": os.path.join(data_mail_dir, \"english_own_train.csv\"),\n",
    "         \"test_raw\": os.path.join(data_mail_dir, \"english_own_test.csv\"),\n",
    "         \"train_preprocessed\": os.path.join(data_bert_dir, \"english_own_train_bert.csv\"),\n",
    "         \"test_preprocessed\": os.path.join(data_bert_dir, \"english_own_test_bert.csv\")\n",
    "    },\n",
    "    \"german_own\": {\n",
    "         \"train_raw\": os.path.join(data_mail_dir, \"german_own_train.csv\"),\n",
    "         \"test_raw\": os.path.join(data_mail_dir, \"german_own_test.csv\"),\n",
    "         \"train_preprocessed\": os.path.join(data_bert_dir, \"german_own_train_bert.csv\"),\n",
    "         \"test_preprocessed\": os.path.join(data_bert_dir, \"german_own_test_bert.csv\")\n",
    "    },\n",
    "    \"multilingual_own\": {\n",
    "         \"train_raw\": os.path.join(data_mail_dir, \"multilingual_own_train.csv\"),\n",
    "         \"test_raw\": os.path.join(data_mail_dir, \"multilingual_own_test.csv\"),\n",
    "         \"train_preprocessed\": os.path.join(data_bert_dir, \"multilingual_own_train_bert.csv\"),\n",
    "         \"test_preprocessed\": os.path.join(data_bert_dir, \"multilingual_own_test_bert.csv\")\n",
    "    }\n",
    "}"
   ]
  },
  {
   "cell_type": "code",
   "execution_count": null,
   "metadata": {},
   "outputs": [
    {
     "name": "stdout",
     "output_type": "stream",
     "text": [
      "Preprocessing BERT data for english_curated dataset:\n",
      "Char Count (Original): 35304463\n",
      "Char Count (Processed): 29399761\n",
      "Char Reduction (Overall): 16.73%\n",
      "Char Reduction (Avg. per row): 13.02%\n",
      "Processed saved to c:\\Users\\ilian\\Documents\\Projects\\git_projects\\university\\phishing_detection\\data\\preprocessed\\data_bert\\english_curated_train_bert.csv\n",
      "Char Count (Original): 14523458\n",
      "Char Count (Processed): 12688454\n",
      "Char Reduction (Overall): 12.63%\n",
      "Char Reduction (Avg. per row): 12.85%\n",
      "Processed saved to c:\\Users\\ilian\\Documents\\Projects\\git_projects\\university\\phishing_detection\\data\\preprocessed\\data_bert\\english_curated_test_bert.csv\n",
      "Completed preprocessing for english_curated dataset.\n",
      "\n",
      "Preprocessing BERT data for german_curated dataset:\n",
      "Char Count (Original): 36802274\n",
      "Char Count (Processed): 31406480\n",
      "Char Reduction (Overall): 14.66%\n",
      "Char Reduction (Avg. per row): 10.86%\n",
      "Processed saved to c:\\Users\\ilian\\Documents\\Projects\\git_projects\\university\\phishing_detection\\data\\preprocessed\\data_bert\\german_curated_train_bert.csv\n",
      "Char Count (Original): 14806616\n",
      "Char Count (Processed): 13123203\n",
      "Char Reduction (Overall): 11.37%\n",
      "Char Reduction (Avg. per row): 9.82%\n",
      "Processed saved to c:\\Users\\ilian\\Documents\\Projects\\git_projects\\university\\phishing_detection\\data\\preprocessed\\data_bert\\german_curated_test_bert.csv\n",
      "Completed preprocessing for german_curated dataset.\n",
      "\n",
      "Preprocessing BERT data for multilingual_curated dataset:\n",
      "Char Count (Original): 36041581\n",
      "Char Count (Processed): 30395028\n",
      "Char Reduction (Overall): 15.67%\n",
      "Char Reduction (Avg. per row): 11.92%\n",
      "Processed saved to c:\\Users\\ilian\\Documents\\Projects\\git_projects\\university\\phishing_detection\\data\\preprocessed\\data_bert\\multilingual_curated_train_bert.csv\n",
      "Char Count (Original): 14671107\n",
      "Char Count (Processed): 12909764\n",
      "Char Reduction (Overall): 12.01%\n",
      "Char Reduction (Avg. per row): 11.37%\n",
      "Processed saved to c:\\Users\\ilian\\Documents\\Projects\\git_projects\\university\\phishing_detection\\data\\preprocessed\\data_bert\\multilingual_curated_test_bert.csv\n",
      "Completed preprocessing for multilingual_curated dataset.\n",
      "\n"
     ]
    }
   ],
   "source": [
    "for dataset_name, paths in bert_datasets.items():\n",
    "    print(f\"Preprocessing BERT data for {dataset_name} dataset:\")\n",
    "    \n",
    "    prepare_and_save_bert_data(paths[\"train_raw\"], paths[\"train_preprocessed\"])\n",
    "    prepare_and_save_bert_data(paths[\"test_raw\"], paths[\"test_preprocessed\"])\n",
    "\n",
    "    print(f\"Completed preprocessing for {dataset_name} dataset.\\n\")\n",
    "    print(f\"\\n -------------------------------------------------------------\")"
   ]
  }
 ],
 "metadata": {
  "kernelspec": {
   "display_name": ".venv",
   "language": "python",
   "name": "python3"
  },
  "language_info": {
   "codemirror_mode": {
    "name": "ipython",
    "version": 3
   },
   "file_extension": ".py",
   "mimetype": "text/x-python",
   "name": "python",
   "nbconvert_exporter": "python",
   "pygments_lexer": "ipython3",
   "version": "3.10.6"
  }
 },
 "nbformat": 4,
 "nbformat_minor": 2
}
