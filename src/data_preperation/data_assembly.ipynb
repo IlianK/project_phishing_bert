{
 "cells": [
  {
   "cell_type": "markdown",
   "metadata": {},
   "source": [
    "### Imports"
   ]
  },
  {
   "cell_type": "code",
   "execution_count": 2,
   "metadata": {},
   "outputs": [],
   "source": [
    "import sys, os\n",
    "sys.path.append(os.path.abspath('../../src'))\n",
    "\n",
    "from helper_functions.path_resolver import DynamicPathResolver\n",
    "from helper_functions.assemble_collect import *"
   ]
  },
  {
   "cell_type": "markdown",
   "metadata": {},
   "source": [
    "### Paths"
   ]
  },
  {
   "cell_type": "code",
   "execution_count": 3,
   "metadata": {},
   "outputs": [
    {
     "name": "stdout",
     "output_type": "stream",
     "text": [
      "Project Root: c:\\Users\\ilian\\Documents\\Projects\\git_projects\\university\\phishing_bert\n"
     ]
    }
   ],
   "source": [
    "dpr = DynamicPathResolver(marker=\"README.md\")\n",
    "\n",
    "sets_dir = dpr.path.data.raw.data_mail.sets._path\n",
    "\n",
    "train_paths_curated = [\n",
    "    dpr.path.data.raw.data_mail.curated.CEAS_08_csv,\n",
    "    dpr.path.data.raw.data_mail.curated.TREC_07_csv\n",
    "]\n",
    "\n",
    "test_paths_curated = [\n",
    "    dpr.path.data.raw.data_mail.curated.Nazario_5_csv,\n",
    "    dpr.path.data.raw.data_mail.curated.SpamAssasin_csv\n",
    "]\n",
    "\n",
    "paths_own = [\n",
    "    dpr.path.data.raw.data_mail.own.mails_combined_csv,\n",
    "   # dpr.path.data.raw.data_mail.own.mails_jannis.jannis_mail_csv\n",
    "]"
   ]
  },
  {
   "cell_type": "markdown",
   "metadata": {},
   "source": [
    "### Detect And Add Language"
   ]
  },
  {
   "cell_type": "markdown",
   "metadata": {},
   "source": [
    "##### Base paths"
   ]
  },
  {
   "cell_type": "code",
   "execution_count": null,
   "metadata": {},
   "outputs": [],
   "source": [
    "curated_train_base = os.path.join(sets_dir, \"curated_train_base.csv\")\n",
    "curated_test_base  = os.path.join(sets_dir, \"curated_test_base.csv\")"
   ]
  },
  {
   "cell_type": "markdown",
   "metadata": {},
   "source": [
    "##### Add language col to bases"
   ]
  },
  {
   "cell_type": "code",
   "execution_count": null,
   "metadata": {},
   "outputs": [],
   "source": [
    "add_lang_and_create_base(train_paths_curated, curated_train_base)\n",
    "add_lang_and_create_base(test_paths_curated, curated_test_base)"
   ]
  },
  {
   "cell_type": "markdown",
   "metadata": {},
   "source": [
    "##### Verify "
   ]
  },
  {
   "cell_type": "code",
   "execution_count": null,
   "metadata": {},
   "outputs": [],
   "source": [
    "df_curated_train_base = pd.read_csv(curated_train_base)\n",
    "verify(df_curated_train_base, \"Curated Train Base\")\n",
    "\n",
    "df_curated_test_base = pd.read_csv(curated_test_base)\n",
    "verify(df_curated_test_base, \"Curated Test Base\")"
   ]
  },
  {
   "cell_type": "markdown",
   "metadata": {},
   "source": [
    "### Create Curated Train & Test Sets"
   ]
  },
  {
   "cell_type": "markdown",
   "metadata": {},
   "source": [
    "##### 1. BERT – English Only"
   ]
  },
  {
   "cell_type": "code",
   "execution_count": null,
   "metadata": {},
   "outputs": [],
   "source": [
    "build_balanced_set(\n",
    "    base_file=curated_train_base,\n",
    "    out_file=os.path.join(sets_dir, \"english_curated_train.csv\"),\n",
    "    total_size=20000\n",
    ")"
   ]
  },
  {
   "cell_type": "code",
   "execution_count": null,
   "metadata": {},
   "outputs": [],
   "source": [
    "build_balanced_set(\n",
    "    base_file=curated_test_base,\n",
    "    out_file=os.path.join(sets_dir, \"english_curated_test.csv\"),\n",
    "    total_size=4000\n",
    ")"
   ]
  },
  {
   "cell_type": "markdown",
   "metadata": {},
   "source": [
    "##### 2. BERT – German Only"
   ]
  },
  {
   "cell_type": "code",
   "execution_count": null,
   "metadata": {},
   "outputs": [],
   "source": [
    "translate_entire_dataset(\n",
    "    eng_file=os.path.join(sets_dir, \"english_curated_verification.csv\"),\n",
    "    out_file=os.path.join(sets_dir, \"german_curated_verification.csv\")\n",
    ")"
   ]
  },
  {
   "cell_type": "code",
   "execution_count": null,
   "metadata": {},
   "outputs": [],
   "source": [
    "translate_entire_dataset(\n",
    "    eng_file=os.path.join(sets_dir, \"english_curated_train.csv\"),\n",
    "    out_file=os.path.join(sets_dir, \"german_curated_train.csv\")\n",
    ")"
   ]
  },
  {
   "cell_type": "code",
   "execution_count": null,
   "metadata": {},
   "outputs": [],
   "source": [
    "translate_entire_dataset(\n",
    "    eng_file=os.path.join(sets_dir, \"english_curated_test.csv\"),\n",
    "    out_file=os.path.join(sets_dir, \"german_curated_test.csv\")\n",
    ")"
   ]
  },
  {
   "cell_type": "markdown",
   "metadata": {},
   "source": [
    "##### 3. BERT – Multilingual"
   ]
  },
  {
   "cell_type": "code",
   "execution_count": null,
   "metadata": {},
   "outputs": [],
   "source": [
    "sample_from_existing_datasets(\n",
    "    eng_file=os.path.join(sets_dir, \"english_curated_verification.csv\"),\n",
    "    de_file=os.path.join(sets_dir, \"german_curated_verification.csv\"),\n",
    "    out_file=os.path.join(sets_dir, \"multilingual_curated_verification.csv\"),\n",
    "    english_size=2000,\n",
    "    german_size=2000\n",
    ")"
   ]
  },
  {
   "cell_type": "code",
   "execution_count": null,
   "metadata": {},
   "outputs": [],
   "source": [
    "sample_from_existing_datasets(\n",
    "    eng_file=os.path.join(sets_dir, \"english_curated_train.csv\"),\n",
    "    de_file=os.path.join(sets_dir, \"german_curated_train.csv\"),\n",
    "    out_file=os.path.join(sets_dir, \"multilingual_curated_train.csv\"),\n",
    "    english_size=10000,\n",
    "    german_size=10000\n",
    ")"
   ]
  },
  {
   "cell_type": "code",
   "execution_count": null,
   "metadata": {},
   "outputs": [],
   "source": [
    "sample_from_existing_datasets(\n",
    "    eng_file=os.path.join(sets_dir, \"english_curated_test.csv\"),\n",
    "    de_file=os.path.join(sets_dir, \"german_curated_test.csv\"),\n",
    "    out_file=os.path.join(sets_dir, \"multilingual_curated_test.csv\"),\n",
    "    english_size=2000,\n",
    "    german_size=2000\n",
    ")"
   ]
  },
  {
   "cell_type": "markdown",
   "metadata": {},
   "source": [
    "### Verification Set "
   ]
  },
  {
   "cell_type": "markdown",
   "metadata": {},
   "source": [
    "##### Sample non-overlapping"
   ]
  },
  {
   "cell_type": "code",
   "execution_count": null,
   "metadata": {},
   "outputs": [],
   "source": [
    "used_train_file = os.path.join(sets_dir, \"english_curated_train.csv\")\n",
    "output_file = os.path.join(sets_dir, \"english_curated_verification.csv\")\n",
    "\n",
    "sample_non_overlapping(train_paths_curated, used_train_file, output_file)"
   ]
  },
  {
   "cell_type": "markdown",
   "metadata": {},
   "source": [
    "##### Check duplicates"
   ]
  },
  {
   "cell_type": "code",
   "execution_count": null,
   "metadata": {},
   "outputs": [],
   "source": [
    "csv_file1 = dpr.path.data.raw.data_mail.sets.english_curated_test_csv \n",
    "csv_file2 = dpr.path.data.raw.data_mail.sets.english_curated_verification_csv"
   ]
  },
  {
   "cell_type": "code",
   "execution_count": null,
   "metadata": {},
   "outputs": [],
   "source": [
    "num_duplicates = check_duplicates(csv_file1, csv_file2)"
   ]
  },
  {
   "cell_type": "markdown",
   "metadata": {},
   "source": [
    "### Create own"
   ]
  },
  {
   "cell_type": "code",
   "execution_count": null,
   "metadata": {},
   "outputs": [],
   "source": [
    "own_base = os.path.join(sets_dir, \"own_base.csv\")\n",
    "own_train_base = os.path.join(sets_dir, \"own_train_base.csv\")\n",
    "own_test_base  = os.path.join(sets_dir, \"own_test_base.csv\")"
   ]
  },
  {
   "cell_type": "code",
   "execution_count": null,
   "metadata": {},
   "outputs": [],
   "source": [
    "add_lang_and_create_base(paths_own, own_base)"
   ]
  },
  {
   "cell_type": "code",
   "execution_count": null,
   "metadata": {},
   "outputs": [],
   "source": [
    "balance_and_split_dataset(own_base, own_train_base, own_test_base)"
   ]
  },
  {
   "cell_type": "code",
   "execution_count": null,
   "metadata": {},
   "outputs": [],
   "source": [
    "df_own_train_base = pd.read_csv(own_train_base)\n",
    "verify(df_own_train_base, \"Own Train Base\")\n",
    "\n",
    "df_own_test_base = pd.read_csv(own_test_base)\n",
    "verify(df_own_test_base, \"Own Test Base\")"
   ]
  },
  {
   "cell_type": "markdown",
   "metadata": {},
   "source": [
    "### Verify Balances"
   ]
  },
  {
   "cell_type": "markdown",
   "metadata": {},
   "source": [
    "##### Verify Verification"
   ]
  },
  {
   "cell_type": "code",
   "execution_count": 4,
   "metadata": {},
   "outputs": [
    {
     "name": "stdout",
     "output_type": "stream",
     "text": [
      "\n",
      "English Curated Verification, Rows: 4000\n",
      "----------------------------------------\n",
      "Class Distribution: {0: 2000, 1: 2000}\n",
      "Language Distribution: {'en': 4000}\n",
      "Detailed (Class, Language) Distribution: {(0, 'en'): 2000, (1, 'en'): 2000}\n",
      "----------------------------------------\n",
      "\n",
      "German Curated Verification, Rows: 4000\n",
      "----------------------------------------\n",
      "Class Distribution: {0: 2000, 1: 2000}\n",
      "Language Distribution: {'de': 4000}\n",
      "Detailed (Class, Language) Distribution: {(0, 'de'): 2000, (1, 'de'): 2000}\n",
      "----------------------------------------\n",
      "\n",
      "Multilingual Curated Verification, Rows: 4000\n",
      "----------------------------------------\n",
      "Class Distribution: {1: 2000, 0: 2000}\n",
      "Language Distribution: {'en': 2000, 'de': 2000}\n",
      "Detailed (Class, Language) Distribution: {(0, 'de'): 1000, (0, 'en'): 1000, (1, 'de'): 1000, (1, 'en'): 1000}\n",
      "----------------------------------------\n"
     ]
    }
   ],
   "source": [
    "df_multilangual_curated_verification = pd.read_csv(os.path.join(sets_dir, \"english_curated_verification.csv\"))\n",
    "verify(df_multilangual_curated_verification, \"English Curated Verification\")\n",
    "\n",
    "df_multilangual_curated_verification = pd.read_csv(os.path.join(sets_dir, \"german_curated_verification.csv\"))\n",
    "verify(df_multilangual_curated_verification, \"German Curated Verification\")\n",
    "\n",
    "df_multilangual_curated_verification = pd.read_csv(os.path.join(sets_dir, \"multilingual_curated_verification.csv\"))\n",
    "verify(df_multilangual_curated_verification, \"Multilingual Curated Verification\")"
   ]
  },
  {
   "cell_type": "markdown",
   "metadata": {},
   "source": [
    "##### Verify English"
   ]
  },
  {
   "cell_type": "code",
   "execution_count": 5,
   "metadata": {},
   "outputs": [
    {
     "name": "stdout",
     "output_type": "stream",
     "text": [
      "\n",
      "English Curated Train, Rows: 20000\n",
      "----------------------------------------\n",
      "Class Distribution: {0: 10000, 1: 10000}\n",
      "Language Distribution: {'en': 20000}\n",
      "Detailed (Class, Language) Distribution: {(0, 'en'): 10000, (1, 'en'): 10000}\n",
      "----------------------------------------\n",
      "\n",
      "English Curated Test, Rows: 4000\n",
      "----------------------------------------\n",
      "Class Distribution: {0: 2000, 1: 2000}\n",
      "Language Distribution: {'en': 4000}\n",
      "Detailed (Class, Language) Distribution: {(0, 'en'): 2000, (1, 'en'): 2000}\n",
      "----------------------------------------\n"
     ]
    }
   ],
   "source": [
    "# Curated-based train english\n",
    "df_eng_curated_train = pd.read_csv(os.path.join(sets_dir, \"english_curated_train.csv\"))\n",
    "verify(df_eng_curated_train, \"English Curated Train\")\n",
    "\n",
    "# Curated-based test english\n",
    "df_eng_curated_test = pd.read_csv(os.path.join(sets_dir, \"english_curated_test.csv\"))\n",
    "verify(df_eng_curated_test, \"English Curated Test\")"
   ]
  },
  {
   "cell_type": "markdown",
   "metadata": {},
   "source": [
    "##### Verify German"
   ]
  },
  {
   "cell_type": "code",
   "execution_count": 6,
   "metadata": {},
   "outputs": [
    {
     "name": "stdout",
     "output_type": "stream",
     "text": [
      "\n",
      "German Curated Train, Rows: 20000\n",
      "----------------------------------------\n",
      "Class Distribution: {0: 10000, 1: 10000}\n",
      "Language Distribution: {'de': 20000}\n",
      "Detailed (Class, Language) Distribution: {(0, 'de'): 10000, (1, 'de'): 10000}\n",
      "----------------------------------------\n",
      "\n",
      "German Curated Test, Rows: 4000\n",
      "----------------------------------------\n",
      "Class Distribution: {0: 2000, 1: 2000}\n",
      "Language Distribution: {'de': 4000}\n",
      "Detailed (Class, Language) Distribution: {(0, 'de'): 2000, (1, 'de'): 2000}\n",
      "----------------------------------------\n"
     ]
    }
   ],
   "source": [
    "# Curated-based train german\n",
    "df_germ_curated_train = pd.read_csv(os.path.join(sets_dir, \"german_curated_train.csv\"))\n",
    "verify(df_germ_curated_train, \"German Curated Train\")\n",
    "\n",
    "# Curated-based test german\n",
    "df_germ_curated_test = pd.read_csv(os.path.join(sets_dir, \"german_curated_test.csv\"))\n",
    "verify(df_germ_curated_test, \"German Curated Test\")"
   ]
  },
  {
   "cell_type": "markdown",
   "metadata": {},
   "source": [
    "##### Verify Multi"
   ]
  },
  {
   "cell_type": "code",
   "execution_count": 7,
   "metadata": {},
   "outputs": [
    {
     "name": "stdout",
     "output_type": "stream",
     "text": [
      "\n",
      "Multilingual Curated Train, Rows: 20000\n",
      "----------------------------------------\n",
      "Class Distribution: {1: 10000, 0: 10000}\n",
      "Language Distribution: {'en': 10000, 'de': 10000}\n",
      "Detailed (Class, Language) Distribution: {(0, 'de'): 5000, (0, 'en'): 5000, (1, 'de'): 5000, (1, 'en'): 5000}\n",
      "----------------------------------------\n",
      "\n",
      "Multilingual Curated Test, Rows: 4000\n",
      "----------------------------------------\n",
      "Class Distribution: {1: 2000, 0: 2000}\n",
      "Language Distribution: {'en': 2000, 'de': 2000}\n",
      "Detailed (Class, Language) Distribution: {(0, 'de'): 1000, (0, 'en'): 1000, (1, 'de'): 1000, (1, 'en'): 1000}\n",
      "----------------------------------------\n"
     ]
    }
   ],
   "source": [
    "# Curated-based train multi\n",
    "df_mult_curated_train = pd.read_csv(os.path.join(sets_dir, \"multilingual_curated_train.csv\"))\n",
    "verify(df_mult_curated_train, \"Multilingual Curated Train\")\n",
    "\n",
    "# Curated-based test multi\n",
    "df_mult_curated_test = pd.read_csv(os.path.join(sets_dir, \"multilingual_curated_test.csv\"))\n",
    "verify(df_mult_curated_test, \"Multilingual Curated Test\")"
   ]
  },
  {
   "cell_type": "markdown",
   "metadata": {},
   "source": [
    "##### Verify Own"
   ]
  },
  {
   "cell_type": "code",
   "execution_count": 8,
   "metadata": {},
   "outputs": [
    {
     "name": "stdout",
     "output_type": "stream",
     "text": [
      "\n",
      "Own Base, Rows: 8162\n",
      "----------------------------------------\n",
      "Class Distribution: {1: 4543, 0: 3609, -1: 10}\n",
      "Language Distribution: {'de': 7047, 'en': 470, 'ru': 335, 'af': 42, 'sv': 26, 'fr': 24, 'nl': 23, 'no': 21, 'unknown': 21, 'et': 18, 'bg': 16, 'tl': 15, 'it': 15, 'mk': 14, 'da': 13, 'id': 13, 'pl': 10, 'tr': 7, 'cy': 6, 'uk': 4, 'ca': 4, 'es': 4, 'so': 3, 'hu': 2, 'ro': 2, 'fi': 2, 'pt': 1, 'lv': 1, 'hr': 1, 'ja': 1, 'sk': 1}\n",
      "Detailed (Class, Language) Distribution: {(-1, 'de'): 8, (-1, 'en'): 1, (-1, 'no'): 1, (0, 'af'): 23, (0, 'ca'): 1, (0, 'cy'): 1, (0, 'da'): 10, (0, 'de'): 3169, (0, 'en'): 323, (0, 'et'): 17, (0, 'fi'): 1, (0, 'fr'): 14, (0, 'hu'): 2, (0, 'id'): 5, (0, 'it'): 2, (0, 'nl'): 5, (0, 'no'): 8, (0, 'pl'): 1, (0, 'ro'): 1, (0, 'sk'): 1, (0, 'sv'): 11, (0, 'tl'): 12, (0, 'tr'): 1, (0, 'unknown'): 1, (1, 'af'): 19, (1, 'bg'): 16, (1, 'ca'): 3, (1, 'cy'): 5, (1, 'da'): 3, (1, 'de'): 3870, (1, 'en'): 146, (1, 'es'): 4, (1, 'et'): 1, (1, 'fi'): 1, (1, 'fr'): 10, (1, 'hr'): 1, (1, 'id'): 8, (1, 'it'): 13, (1, 'ja'): 1, (1, 'lv'): 1, (1, 'mk'): 14, (1, 'nl'): 18, (1, 'no'): 12, (1, 'pl'): 9, (1, 'pt'): 1, (1, 'ro'): 1, (1, 'ru'): 335, (1, 'so'): 3, (1, 'sv'): 15, (1, 'tl'): 3, (1, 'tr'): 6, (1, 'uk'): 4, (1, 'unknown'): 20}\n",
      "----------------------------------------\n",
      "\n",
      "German Own Train, Rows: 5774\n",
      "----------------------------------------\n",
      "Class Distribution: {0: 2887, 1: 2887}\n",
      "Language Distribution: {'de': 4981, 'en': 352, 'ru': 220, 'af': 28, 'sv': 19, 'fr': 18, 'unknown': 16, 'nl': 15, 'no': 15, 'et': 13, 'tl': 12, 'it': 10, 'mk': 10, 'id': 10, 'da': 10, 'bg': 8, 'tr': 6, 'cy': 6, 'pl': 5, 'es': 3, 'uk': 3, 'ca': 3, 'ro': 2, 'hu': 2, 'so': 2, 'fi': 2, 'ja': 1, 'pt': 1, 'lv': 1}\n",
      "Detailed (Class, Language) Distribution: {(0, 'af'): 18, (0, 'ca'): 1, (0, 'cy'): 1, (0, 'da'): 9, (0, 'de'): 2528, (0, 'en'): 264, (0, 'et'): 13, (0, 'fi'): 1, (0, 'fr'): 12, (0, 'hu'): 2, (0, 'id'): 4, (0, 'it'): 2, (0, 'nl'): 4, (0, 'no'): 7, (0, 'ro'): 1, (0, 'sv'): 9, (0, 'tl'): 9, (0, 'tr'): 1, (0, 'unknown'): 1, (1, 'af'): 10, (1, 'bg'): 8, (1, 'ca'): 2, (1, 'cy'): 5, (1, 'da'): 1, (1, 'de'): 2453, (1, 'en'): 88, (1, 'es'): 3, (1, 'fi'): 1, (1, 'fr'): 6, (1, 'id'): 6, (1, 'it'): 8, (1, 'ja'): 1, (1, 'lv'): 1, (1, 'mk'): 10, (1, 'nl'): 11, (1, 'no'): 8, (1, 'pl'): 5, (1, 'pt'): 1, (1, 'ro'): 1, (1, 'ru'): 220, (1, 'so'): 2, (1, 'sv'): 10, (1, 'tl'): 3, (1, 'tr'): 5, (1, 'uk'): 3, (1, 'unknown'): 15}\n",
      "----------------------------------------\n",
      "\n",
      "German Own Test, Rows: 1444\n",
      "----------------------------------------\n",
      "Class Distribution: {0: 722, 1: 722}\n",
      "Language Distribution: {'de': 1267, 'en': 83, 'ru': 45, 'af': 7, 'nl': 5, 'et': 4, 'sv': 4, 'mk': 4, 'pl': 3, 'fr': 3, 'tl': 3, 'da': 3, 'no': 3, 'it': 2, 'id': 2, 'unknown': 1, 'bg': 1, 'uk': 1, 'sk': 1, 'es': 1, 'so': 1}\n",
      "Detailed (Class, Language) Distribution: {(0, 'af'): 5, (0, 'da'): 1, (0, 'de'): 641, (0, 'en'): 59, (0, 'et'): 4, (0, 'fr'): 2, (0, 'id'): 1, (0, 'nl'): 1, (0, 'no'): 1, (0, 'pl'): 1, (0, 'sk'): 1, (0, 'sv'): 2, (0, 'tl'): 3, (1, 'af'): 2, (1, 'bg'): 1, (1, 'da'): 2, (1, 'de'): 626, (1, 'en'): 24, (1, 'es'): 1, (1, 'fr'): 1, (1, 'id'): 1, (1, 'it'): 2, (1, 'mk'): 4, (1, 'nl'): 4, (1, 'no'): 2, (1, 'pl'): 2, (1, 'ru'): 45, (1, 'so'): 1, (1, 'sv'): 2, (1, 'uk'): 1, (1, 'unknown'): 1}\n",
      "----------------------------------------\n"
     ]
    }
   ],
   "source": [
    "# Own Base \n",
    "df_own_base = pd.read_csv(os.path.join(sets_dir, \"own_base.csv\"))\n",
    "verify(df_own_base, \"Own Base\")\n",
    "\n",
    "# Own Train\n",
    "df_own_train_base = pd.read_csv(os.path.join(sets_dir, \"own_train_base.csv\"))\n",
    "verify(df_own_train_base, \"German Own Train\")\n",
    "\n",
    "# Own Test\n",
    "df_own_test_base = pd.read_csv(os.path.join(sets_dir, \"own_test_base.csv\"))\n",
    "verify(df_own_test_base, \"German Own Test\")"
   ]
  }
 ],
 "metadata": {
  "kernelspec": {
   "display_name": ".venv",
   "language": "python",
   "name": "python3"
  },
  "language_info": {
   "codemirror_mode": {
    "name": "ipython",
    "version": 3
   },
   "file_extension": ".py",
   "mimetype": "text/x-python",
   "name": "python",
   "nbconvert_exporter": "python",
   "pygments_lexer": "ipython3",
   "version": "3.10.6"
  }
 },
 "nbformat": 4,
 "nbformat_minor": 2
}
